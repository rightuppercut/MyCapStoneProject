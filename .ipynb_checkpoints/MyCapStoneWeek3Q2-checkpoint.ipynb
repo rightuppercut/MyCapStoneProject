{
 "cells": [
  {
   "cell_type": "code",
   "execution_count": 5,
   "metadata": {},
   "outputs": [
    {
     "name": "stdout",
     "output_type": "stream",
     "text": [
      "Hello Capstone Project Course!\n"
     ]
    }
   ],
   "source": [
    "import pandas as pd\n",
    "import numpy as np\n",
    "import wikipedia as wp\n",
    "import requests\n",
    "import os\n",
    "import urllib.request\n",
    "from bs4 import BeautifulSoup\n",
    "from geopy.geocoders import Nominatim\n",
    "import folium\n",
    "print(\"Hello Capstone Project Course!\")"
   ]
  },
  {
   "cell_type": "markdown",
   "metadata": {},
   "source": [
    "This is a WorkBook dedicated for MyCapStone Project"
   ]
  },
  {
   "cell_type": "code",
   "execution_count": 7,
   "metadata": {},
   "outputs": [
    {
     "name": "stdout",
     "output_type": "stream",
     "text": [
      "List of postal codes of Canada: M - Wikipedia\n",
      "Raw Table Size from URL : (287, 3)\n",
      "Table Size after removing row's containing Borough as \"Not assigned\" : (210, 3)\n",
      "Table Size after grouping row by same postalcode : (103, 3)\n"
     ]
    }
   ],
   "source": [
    "url = \"https://en.wikipedia.org/wiki/List_of_postal_codes_of_Canada:_M\"\n",
    "page = urllib.request.urlopen(url)\n",
    "soup = BeautifulSoup(page, \"lxml\")\n",
    "all_tables=soup.find_all(\"table\")\n",
    "\n",
    "print(soup.title.string)\n",
    "right_table=soup.find('table', class_='wikitable sortable')\n",
    "AA = []\n",
    "BB = []\n",
    "CC = []\n",
    "for row in right_table.findAll('tr'):\n",
    "    cells=row.findAll('td')\n",
    "    if len(cells) > 0:\n",
    "        AA.append(cells[0].find(text=True).rstrip(\"\\n\"))\n",
    "        BB.append(cells[1].find(text=True).rstrip(\"\\n\"))\n",
    "        CC.append(cells[2].find(text=True).rstrip(\"\\n\"))\n",
    "        \n",
    "Wiki_DF_1 = pd.DataFrame(AA,columns=['Postalcode'])\n",
    "Wiki_DF_1['Borough']=BB\n",
    "Wiki_DF_1['Neighbourhood']=CC\n",
    "print(\"Raw Table Size from URL : \" + str(Wiki_DF_1.shape))\n",
    "Wiki_DF_1.to_csv(os.getcwd() + \"\\\\1_MyTorontoPC_RAW.csv\")\n",
    "\n",
    "A = []\n",
    "B = []\n",
    "C = []\n",
    "for row in right_table.findAll('tr'):\n",
    "    cells=row.findAll('td')\n",
    "    if len(cells) > 0:\n",
    "        if cells[1].find(text=True).rstrip(\"\\n\") != \"Not assigned\":\n",
    "            A.append(cells[0].find(text=True).rstrip(\"\\n\"))\n",
    "            B.append(cells[1].find(text=True).rstrip(\"\\n\"))\n",
    "            if cells[2].find(text=True).rstrip(\"\\n\") == \"Not assigned\":\n",
    "                C.append(cells[1].find(text=True).rstrip(\"\\n\"))\n",
    "            else:\n",
    "                C.append(cells[2].find(text=True).rstrip(\"\\n\"))\n",
    "        \n",
    "Wiki_DF_2 = pd.DataFrame(A,columns=['Postalcode'])\n",
    "Wiki_DF_2['Borough']=B\n",
    "Wiki_DF_2['Neighbourhood']=C\n",
    "Wiki_DF_2.to_csv(os.getcwd() + \"\\\\2_MyTorontoPC_NA.csv\")\n",
    "print(\"Table Size after removing row's containing Borough as \\\"Not assigned\\\" : \" + str(Wiki_DF_2.shape))\n",
    "\n",
    "Wiki_DF_3 = Wiki_DF_2.groupby(['Postalcode','Borough'], as_index = False).agg({'Neighbourhood': ','.join})\n",
    "Wiki_DF_3.to_csv(os.getcwd() + \"\\\\3_MyTorontoData_GROUPED.csv\")\n",
    "print(\"Table Size after grouping row by same postalcode : \" + str(Wiki_DF_3.shape))"
   ]
  },
  {
   "cell_type": "markdown",
   "metadata": {},
   "source": [
    "<h1>MarkDown</h1><br>\n",
    "All Requested Actions Were Completed <br>\n",
    "Queried Table from a Wikipedia Link into a dataframe <br>\n",
    "Processed it to ensure if Borough is Not Assigned then its data is not taken into account"
   ]
  },
  {
   "cell_type": "code",
   "execution_count": 30,
   "metadata": {},
   "outputs": [],
   "source": [
    "import geocoder # import geocoder\n",
    "import io\n",
    "url=\"http://cocl.us/Geospatial_data\"\n",
    "Geospatial_data=requests.get(url).content\n",
    "\n",
    "A = []\n",
    "B = []\n",
    "C = []\n",
    "D = []\n",
    "E = []\n",
    "\n",
    "Wiki_DF = Wiki_DF_3\n",
    "Wiki_PostLatLon = pd.read_csv(io.StringIO(Geospatial_data.decode('utf-8')))\n",
    "for index, row in Wiki_DF.iterrows():\n",
    "    A.append(row['Postalcode'])\n",
    "    B.append(row['Borough'])\n",
    "    C.append(row['Neighbourhood'])\n",
    "    \n",
    "    #location = None\n",
    "    #while(location is None):\n",
    "    #    geolocator = Nominatim(user_agent='MyCapStone')\n",
    "    #    location = geolocator.geocode({\"postalcode\": row['Borough']})\n",
    "    LatLon = Wiki_PostLatLon[Wiki_PostLatLon[\"Postal Code\"] == row['Postalcode']]\n",
    "    D.append(LatLon[\"Latitude\"].values[0])\n",
    "    E.append(LatLon[\"Longitude\"].values[0])\n",
    "\n",
    "Wiki_DF_4 = pd.DataFrame(A,columns=['Postalcode'])\n",
    "Wiki_DF_4['Borough']=B\n",
    "Wiki_DF_4['Neighbourhood']=C\n",
    "Wiki_DF_4['Latitude']=D\n",
    "Wiki_DF_4['Longitude']=E\n",
    "\n",
    "Wiki_DF_4.to_csv(os.getcwd() + \"\\\\3_MyTorontoData_LATLON.csv\")"
   ]
  },
  {
   "cell_type": "code",
   "execution_count": null,
   "metadata": {},
   "outputs": [],
   "source": []
  }
 ],
 "metadata": {
  "kernelspec": {
   "display_name": "Python 3",
   "language": "python",
   "name": "python3"
  },
  "language_info": {
   "codemirror_mode": {
    "name": "ipython",
    "version": 3
   },
   "file_extension": ".py",
   "mimetype": "text/x-python",
   "name": "python",
   "nbconvert_exporter": "python",
   "pygments_lexer": "ipython3",
   "version": "3.7.2"
  }
 },
 "nbformat": 4,
 "nbformat_minor": 4
}
